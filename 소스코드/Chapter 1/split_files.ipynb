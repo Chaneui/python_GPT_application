{
 "cells": [
  {
   "cell_type": "code",
   "execution_count": 1,
   "id": "c7e44697-42ea-422a-a25a-e0b9c6042571",
   "metadata": {},
   "outputs": [],
   "source": [
    "# csv 파일(또는 엑셀 파일)을 불러와 특정 기준으로 파일 분할하기\n",
    "import pandas as pd\n",
    "\n",
    "df = pd.read_csv('ABNB_stock.csv')\n",
    "\n",
    "df['Date'] = pd.to_datetime(df['Date'])\n",
    "\n",
    "for date_value, group_df in df.groupby(df['Date'].dt.date):\n",
    "    filename = f\"ABNB_stock_{date_value}.csv\"\n",
    "    group_df.to_csv(filename, index=False)"
   ]
  },
  {
   "cell_type": "code",
   "execution_count": 2,
   "id": "c9e510d5-d5a0-4d79-b79f-525169fed11b",
   "metadata": {},
   "outputs": [],
   "source": [
    "# csv 파일(또는 엑셀 파일)을 불러와 주 단위로 파일 분할하기\n",
    "import pandas as pd\n",
    "\n",
    "df = pd.read_csv('ABNB_stock.csv')\n",
    "\n",
    "df['Date'] = pd.to_datetime(df['Date'])\n",
    "\n",
    "for week_start, group_df in df.groupby(pd.Grouper(key='Date', freq='W')):\n",
    "    week_start_str = week_start.strftime('%Y-%m-%d')\n",
    "    filename = f\"data_week_{week_start_str}.csv\" \n",
    "    group_df.to_csv(filename, index=False)"
   ]
  }
 ],
 "metadata": {
  "kernelspec": {
   "display_name": "python_book",
   "language": "python",
   "name": "python_book"
  },
  "language_info": {
   "codemirror_mode": {
    "name": "ipython",
    "version": 3
   },
   "file_extension": ".py",
   "mimetype": "text/x-python",
   "name": "python",
   "nbconvert_exporter": "python",
   "pygments_lexer": "ipython3",
   "version": "3.11.7"
  }
 },
 "nbformat": 4,
 "nbformat_minor": 5
}
